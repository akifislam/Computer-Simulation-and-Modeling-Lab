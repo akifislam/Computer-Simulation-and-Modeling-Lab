{
 "cells": [
  {
   "cell_type": "markdown",
   "metadata": {},
   "source": [
    "# Linear Congruential Method (LCM) to Generate Random Numbers\n",
    "- Akif Islam<br>Department of CSE, University of Rajshahi<br>iamakifislam@gmail.com"
   ]
  },
  {
   "cell_type": "markdown",
   "metadata": {},
   "source": [
    "### Parameters"
   ]
  },
  {
   "cell_type": "code",
   "execution_count": 34,
   "metadata": {},
   "outputs": [],
   "source": [
    "x0 = 28 # seed\n",
    "a = 17 # constant multiplier\n",
    "c = 43 # increment\n",
    "m = 100 # modulus"
   ]
  },
  {
   "cell_type": "markdown",
   "metadata": {},
   "source": [
    "### Set of(Unique) Random Numbers obtained by LCM"
   ]
  },
  {
   "cell_type": "code",
   "execution_count": 35,
   "metadata": {},
   "outputs": [],
   "source": [
    "def lcm_random_generator(x0):\n",
    "\n",
    "    random_numbers = []\n",
    "\n",
    "    for i in range(0,1000):\n",
    "        x0 = (a*x0+c)%m\n",
    "        random_numbers.append(x0/m)\n",
    "\n",
    "    return set(random_numbers)"
   ]
  },
  {
   "cell_type": "markdown",
   "metadata": {},
   "source": [
    "### Print Random Numbers"
   ]
  },
  {
   "cell_type": "code",
   "execution_count": 36,
   "metadata": {},
   "outputs": [
    {
     "name": "stdout",
     "output_type": "stream",
     "text": [
      "1. 0.19\n",
      "2. 0.66\n",
      "3. 0.48\n",
      "4. 0.59\n",
      "5. 0.65\n",
      "6. 0.46\n",
      "7. 0.25\n",
      "8. 0.68\n",
      "9. 0.99\n",
      "10. 0.26\n",
      "11. 0.85\n",
      "12. 0.05\n",
      "13. 0.86\n",
      "14. 0.28\n",
      "15. 0.45\n",
      "16. 0.79\n",
      "17. 0.88\n",
      "18. 0.39\n",
      "19. 0.06\n",
      "20. 0.08\n",
      "Total Generated Random Number(s):  21\n"
     ]
    }
   ],
   "source": [
    "random_numbers = lcm_random_generator(x0)\n",
    "\n",
    "cnt = 1\n",
    "for number in random_numbers:\n",
    "    print(f\"{cnt}. {number}\")\n",
    "    cnt+=1\n",
    "    \n",
    "print(\"Total Generated Random Number(s): \",cnt)\n",
    "    "
   ]
  }
 ],
 "metadata": {
  "kernelspec": {
   "display_name": "Python 3",
   "language": "python",
   "name": "python3"
  },
  "language_info": {
   "codemirror_mode": {
    "name": "ipython",
    "version": 3
   },
   "file_extension": ".py",
   "mimetype": "text/x-python",
   "name": "python",
   "nbconvert_exporter": "python",
   "pygments_lexer": "ipython3",
   "version": "3.9.6"
  },
  "orig_nbformat": 4
 },
 "nbformat": 4,
 "nbformat_minor": 2
}
