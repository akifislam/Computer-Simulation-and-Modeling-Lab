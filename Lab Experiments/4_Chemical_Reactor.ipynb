{
 "cells": [
  {
   "cell_type": "markdown",
   "metadata": {},
   "source": [
    "# Chemical Reactor Simulation\n",
    "- Akif Islam<br>Department of CSE, University of Rajshahi<br>iamakifislam@gmail.com"
   ]
  },
  {
   "cell_type": "markdown",
   "metadata": {},
   "source": [
    "# Parameters"
   ]
  },
  {
   "cell_type": "code",
   "execution_count": 53,
   "metadata": {},
   "outputs": [],
   "source": [
    "k1 = 0.002\n",
    "k2 = 0.003\n",
    "\n",
    "a0 = 100\n",
    "b0 = 50\n",
    "c0 = 0\n",
    "\n",
    "dt = 0.30 # Interval\n",
    "N = 5 #Total Time"
   ]
  },
  {
   "cell_type": "markdown",
   "metadata": {},
   "source": [
    "# Simulation"
   ]
  },
  {
   "cell_type": "code",
   "execution_count": 54,
   "metadata": {},
   "outputs": [
    {
     "name": "stdout",
     "output_type": "stream",
     "text": [
      "Time(s)\tA\tB\tC\n",
      "_____________________________\n",
      "0.0 \t 100 \t 50 \t 0\n",
      "0.3 \t 97.0 \t 47.0 \t 6.0\n",
      "0.6 \t 94.27 \t 44.27 \t 11.46\n",
      "0.9 \t 91.78 \t 41.78 \t 16.45\n",
      "1.2 \t 89.49 \t 39.49 \t 21.02\n",
      "1.5 \t 87.39 \t 37.39 \t 25.22\n",
      "1.8 \t 85.45 \t 35.45 \t 29.1\n",
      "2.1 \t 83.66 \t 33.66 \t 32.68\n",
      "2.4 \t 82.0 \t 32.0 \t 36.0\n",
      "2.7 \t 80.46 \t 30.46 \t 39.08\n",
      "3.0 \t 79.02 \t 29.02 \t 41.95\n",
      "3.3 \t 77.68 \t 27.68 \t 44.63\n",
      "3.6 \t 76.43 \t 26.43 \t 47.13\n",
      "3.9 \t 75.26 \t 25.26 \t 49.47\n",
      "4.2 \t 74.16 \t 24.16 \t 51.66\n",
      "4.5 \t 73.13 \t 23.13 \t 53.72\n",
      "4.8 \t 72.16 \t 22.16 \t 55.65\n",
      "5.1 \t 71.25 \t 21.25 \t 57.47\n"
     ]
    }
   ],
   "source": [
    "print(\"Time(s)\\tA\\tB\\tC\")\n",
    "print(\"_____________________________\")\n",
    "print(0.0,\"\\t\",a0,\"\\t\",b0,\"\\t\",c0)\n",
    "\n",
    "cur_time = 0.00\n",
    "\n",
    "while cur_time <N:\n",
    "    cur_time+=dt\n",
    "    \n",
    "    new_a = round(a0 + (k2*c0 - k1*a0*b0)*dt,2)\n",
    "    new_b = round(b0 + (k2*c0 - k1*a0*b0)*dt,2)\n",
    "    new_c = round(c0 + (2*k1*a0*b0 - 2*k2*c0)*dt,2)\n",
    "\n",
    "    print(round(cur_time,2),\"\\t\",new_a,\"\\t\",new_b,\"\\t\",new_c)\n",
    "\n",
    "    a0 = new_a\n",
    "    b0 = new_b\n",
    "    c0 = new_c\n",
    "\n",
    "  "
   ]
  },
  {
   "cell_type": "code",
   "execution_count": null,
   "metadata": {},
   "outputs": [],
   "source": []
  }
 ],
 "metadata": {
  "kernelspec": {
   "display_name": "Python 3",
   "language": "python",
   "name": "python3"
  },
  "language_info": {
   "codemirror_mode": {
    "name": "ipython",
    "version": 3
   },
   "file_extension": ".py",
   "mimetype": "text/x-python",
   "name": "python",
   "nbconvert_exporter": "python",
   "pygments_lexer": "ipython3",
   "version": "3.9.6"
  },
  "orig_nbformat": 4
 },
 "nbformat": 4,
 "nbformat_minor": 2
}
