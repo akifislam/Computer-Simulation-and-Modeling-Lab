{
 "cells": [
  {
   "cell_type": "markdown",
   "metadata": {},
   "source": [
    "# Midsquare Method to Generate Random Numbers\n",
    "- Akif Islam<br>Department of CSE, University of Rajshahi<br>iamakifislam@gmail.com"
   ]
  },
  {
   "cell_type": "markdown",
   "metadata": {},
   "source": [
    "### This method takes a seed and generate new seed by squaring and taking the middle 4 digits"
   ]
  },
  {
   "cell_type": "code",
   "execution_count": 29,
   "metadata": {},
   "outputs": [],
   "source": [
    "def midsquare_random_generator(seed):\n",
    "\n",
    "    # Zi x Zi = Square Value of the Seed\n",
    "    squared_seed = str(seed**2)\n",
    "\n",
    "    # Pad 0 if len of squared value is less than 8\n",
    "    while len(squared_seed)<8:\n",
    "        squared_seed = '0'+ squared_seed\n",
    "\n",
    "    # Take Middle 4 digits\n",
    "    new_seed = int(squared_seed[2:6])\n",
    "    \n",
    "    return new_seed"
   ]
  },
  {
   "cell_type": "markdown",
   "metadata": {},
   "source": [
    "### This method generates Random Number chart"
   ]
  },
  {
   "cell_type": "code",
   "execution_count": 30,
   "metadata": {},
   "outputs": [],
   "source": [
    "def print_midsqaure_chart(initial_seed):\n",
    "\n",
    "    # Print Header\n",
    "    print(\"i\\tZi\\tUi\\tZiZi\")\n",
    "    print(\"_______________________________\")\n",
    "\n",
    "    # Print First Line\n",
    "    print(f\"0\\t{initial_seed}\\t-\\t{initial_seed**2}\")\n",
    "\n",
    "    # Print Full Chart\n",
    "    got_zero_cnt = 0\n",
    "    cnt = 1\n",
    "    seed = initial_seed\n",
    "    \n",
    "    while(True):\n",
    "\n",
    "        new_seed = midsquare_random_generator(seed)\n",
    "        print(f\"{cnt}\\t{new_seed}\\t{new_seed}\\t{new_seed**2}\")\n",
    "\n",
    "        seed = new_seed\n",
    "        cnt+=1\n",
    "        got_zero_cnt+=(seed==0)\n",
    "\n",
    "        if(got_zero_cnt==2):\n",
    "            got_zero_cnt\n",
    "            break\n"
   ]
  },
  {
   "cell_type": "code",
   "execution_count": 31,
   "metadata": {},
   "outputs": [
    {
     "name": "stdout",
     "output_type": "stream",
     "text": [
      "i\tZi\tUi\tZiZi\n",
      "_______________________________\n",
      "0\t7182\t-\t51581124\n",
      "1\t5811\t5811\t33767721\n",
      "2\t7677\t7677\t58936329\n",
      "3\t9363\t9363\t87665769\n",
      "4\t6657\t6657\t44315649\n",
      "5\t3156\t3156\t9960336\n",
      "6\t9603\t9603\t92217609\n",
      "7\t2176\t2176\t4734976\n",
      "8\t7349\t7349\t54007801\n",
      "9\t78\t78\t6084\n",
      "10\t60\t60\t3600\n",
      "11\t36\t36\t1296\n",
      "12\t12\t12\t144\n",
      "13\t1\t1\t1\n",
      "14\t0\t0\t0\n",
      "15\t0\t0\t0\n"
     ]
    }
   ],
   "source": [
    "print_midsqaure_chart(7182)"
   ]
  }
 ],
 "metadata": {
  "kernelspec": {
   "display_name": "Python 3",
   "language": "python",
   "name": "python3"
  },
  "language_info": {
   "codemirror_mode": {
    "name": "ipython",
    "version": 3
   },
   "file_extension": ".py",
   "mimetype": "text/x-python",
   "name": "python",
   "nbconvert_exporter": "python",
   "pygments_lexer": "ipython3",
   "version": "3.9.6"
  },
  "orig_nbformat": 4
 },
 "nbformat": 4,
 "nbformat_minor": 2
}
